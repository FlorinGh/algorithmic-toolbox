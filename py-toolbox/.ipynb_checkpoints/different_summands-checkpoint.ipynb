{
 "cells": [
  {
   "cell_type": "markdown",
   "metadata": {},
   "source": [
    "## Maximum Number of Prizes - greedy algorithm"
   ]
  },
  {
   "cell_type": "markdown",
   "metadata": {},
   "source": [
    "You are organizing a funny competition for children. As a prize fund you have 𝑛\n",
    "candies. You would like to use these candies for top 𝑘 places in a competition\n",
    "with a natural restriction that a higher place gets a larger number of candies.\n",
    "To make as many children happy as possible, you are going to find the largest\n",
    "value of 𝑘 for which it is possible."
   ]
  },
  {
   "cell_type": "markdown",
   "metadata": {},
   "source": [
    "The goal of this problem is to represent a given positive integer 𝑛 as a sum of as many pairwise\n",
    "distinct positive integers as possible. That is, to find the maximum 𝑘 such that 𝑛 can be written as\n",
    "𝑎1 + 𝑎2 + · · · + 𝑎𝑘 where 𝑎1, . . . , 𝑎𝑘 are positive integers and 𝑎𝑖 ̸= 𝑎𝑗 for all 1 ≤ 𝑖 < 𝑗 ≤ 𝑘."
   ]
  },
  {
   "cell_type": "markdown",
   "metadata": {},
   "source": [
    "The input consists of a single integer 𝑛."
   ]
  },
  {
   "cell_type": "code",
   "execution_count": null,
   "metadata": {},
   "outputs": [],
   "source": [
    "# First choice, slow, max time 10 sec\n",
    "def optimal_summands(n):\n",
    "    # returns a list of numbers that sum up to n\n",
    "    # the numbers in the list are always ascending\n",
    "    if n in [0, 1]:\n",
    "        summands = [n]\n",
    "        return summands\n",
    "    \n",
    "    summands = []\n",
    "    suma = n\n",
    "    for i in range(1, n):\n",
    "        if (suma - i) >= 0:\n",
    "            summands.append(i)\n",
    "            suma -= i\n",
    "    summands[-1] += n - sum(summands) \n",
    "    return summands"
   ]
  },
  {
   "cell_type": "code",
   "execution_count": 12,
   "metadata": {},
   "outputs": [],
   "source": [
    "# Second choice, really fast max time 0.09 sec\n",
    "import math\n",
    "def optimal_summands(s):\n",
    "    # returns a list of numbers that sum up to s\n",
    "    # the numbers in the list are always ascending\n",
    "    n = int(math.sqrt(2*s))\n",
    "    n = int(math.sqrt(2*s-n))\n",
    "    \n",
    "    optimal_summands = []\n",
    "    for i in range(1, n+1):\n",
    "        optimal_summands.append(i)\n",
    "    optimal_summands[-1] += s - sum(optimal_summands) \n",
    "    \n",
    "    return optimal_summands"
   ]
  },
  {
   "cell_type": "markdown",
   "metadata": {},
   "source": [
    "---"
   ]
  },
  {
   "cell_type": "code",
   "execution_count": 13,
   "metadata": {},
   "outputs": [
    {
     "name": "stdout",
     "output_type": "stream",
     "text": [
      "3\n",
      "[1, 2, 3]\n"
     ]
    }
   ],
   "source": [
    "summands = optimal_summands(6) # 6 -> 3; 1 2 3\n",
    "print(len(summands))\n",
    "print(summands)"
   ]
  },
  {
   "cell_type": "code",
   "execution_count": 14,
   "metadata": {},
   "outputs": [
    {
     "name": "stdout",
     "output_type": "stream",
     "text": [
      "3\n",
      "[1, 2, 5]\n"
     ]
    },
    {
     "data": {
      "text/plain": [
       "8"
      ]
     },
     "execution_count": 14,
     "metadata": {},
     "output_type": "execute_result"
    }
   ],
   "source": [
    "summands = optimal_summands(8) # 8 -> 3; 1 2 5\n",
    "print(len(summands))\n",
    "print(summands)\n",
    "sum(summands)"
   ]
  },
  {
   "cell_type": "code",
   "execution_count": 15,
   "metadata": {},
   "outputs": [
    {
     "name": "stdout",
     "output_type": "stream",
     "text": [
      "1\n",
      "[2]\n"
     ]
    }
   ],
   "source": [
    "summands = optimal_summands(2) # 2 -> 1; 2\n",
    "print(len(summands))\n",
    "print(summands)"
   ]
  },
  {
   "cell_type": "code",
   "execution_count": 16,
   "metadata": {},
   "outputs": [
    {
     "name": "stdout",
     "output_type": "stream",
     "text": [
      "1\n",
      "[1]\n"
     ]
    }
   ],
   "source": [
    "summands = optimal_summands(1) # 1 -> 1; 1\n",
    "print(len(summands))\n",
    "print(summands)"
   ]
  }
 ],
 "metadata": {
  "kernelspec": {
   "display_name": "Python 3",
   "language": "python",
   "name": "python3"
  },
  "language_info": {
   "codemirror_mode": {
    "name": "ipython",
    "version": 3
   },
   "file_extension": ".py",
   "mimetype": "text/x-python",
   "name": "python",
   "nbconvert_exporter": "python",
   "pygments_lexer": "ipython3",
   "version": "3.6.4"
  }
 },
 "nbformat": 4,
 "nbformat_minor": 2
}
