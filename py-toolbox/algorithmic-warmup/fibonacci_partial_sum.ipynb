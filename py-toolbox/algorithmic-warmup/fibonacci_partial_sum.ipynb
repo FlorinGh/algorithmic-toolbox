{
 "cells": [
  {
   "cell_type": "markdown",
   "metadata": {},
   "source": [
    "Find the last digit of a partial sum of Fibonacci numbers: 𝐹𝑚 + 𝐹𝑚+1 + · · · + 𝐹𝑛."
   ]
  },
  {
   "cell_type": "markdown",
   "metadata": {},
   "source": [
    "We now know that the last digit repeats at 60 numbers period; therefore if we compute these values and store in a list, we can then extract the interval and do a sum over it."
   ]
  },
  {
   "cell_type": "code",
   "execution_count": 12,
   "metadata": {},
   "outputs": [],
   "source": [
    "fib_last = []\n",
    "fib_last.append(0)\n",
    "fib_last.append(1)\n",
    "\n",
    "for i in range(2, 60):\n",
    "    fib_last.append((fib_last[i-1] + fib_last[i-2])%10)"
   ]
  },
  {
   "cell_type": "code",
   "execution_count": 13,
   "metadata": {
    "scrolled": true
   },
   "outputs": [
    {
     "data": {
      "text/plain": [
       "[0,\n",
       " 1,\n",
       " 1,\n",
       " 2,\n",
       " 3,\n",
       " 5,\n",
       " 8,\n",
       " 3,\n",
       " 1,\n",
       " 4,\n",
       " 5,\n",
       " 9,\n",
       " 4,\n",
       " 3,\n",
       " 7,\n",
       " 0,\n",
       " 7,\n",
       " 7,\n",
       " 4,\n",
       " 1,\n",
       " 5,\n",
       " 6,\n",
       " 1,\n",
       " 7,\n",
       " 8,\n",
       " 5,\n",
       " 3,\n",
       " 8,\n",
       " 1,\n",
       " 9,\n",
       " 0,\n",
       " 9,\n",
       " 9,\n",
       " 8,\n",
       " 7,\n",
       " 5,\n",
       " 2,\n",
       " 7,\n",
       " 9,\n",
       " 6,\n",
       " 5,\n",
       " 1,\n",
       " 6,\n",
       " 7,\n",
       " 3,\n",
       " 0,\n",
       " 3,\n",
       " 3,\n",
       " 6,\n",
       " 9,\n",
       " 5,\n",
       " 4,\n",
       " 9,\n",
       " 3,\n",
       " 2,\n",
       " 5,\n",
       " 7,\n",
       " 2,\n",
       " 9,\n",
       " 1]"
      ]
     },
     "execution_count": 13,
     "metadata": {},
     "output_type": "execute_result"
    }
   ],
   "source": [
    "fib_last"
   ]
  },
  {
   "cell_type": "code",
   "execution_count": 19,
   "metadata": {},
   "outputs": [
    {
     "data": {
      "text/plain": [
       "2"
      ]
     },
     "execution_count": 19,
     "metadata": {},
     "output_type": "execute_result"
    }
   ],
   "source": [
    "n, m = 10, 201\n",
    "sum(fib_last[n: m])%10"
   ]
  }
 ],
 "metadata": {
  "kernelspec": {
   "display_name": "Python 3",
   "language": "python",
   "name": "python3"
  },
  "language_info": {
   "codemirror_mode": {
    "name": "ipython",
    "version": 3
   },
   "file_extension": ".py",
   "mimetype": "text/x-python",
   "name": "python",
   "nbconvert_exporter": "python",
   "pygments_lexer": "ipython3",
   "version": "3.6.4"
  }
 },
 "nbformat": 4,
 "nbformat_minor": 2
}
