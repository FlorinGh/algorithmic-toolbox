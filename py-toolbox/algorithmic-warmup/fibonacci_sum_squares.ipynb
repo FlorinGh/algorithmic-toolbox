{
 "cells": [
  {
   "cell_type": "markdown",
   "metadata": {},
   "source": [
    "Compute the last digit of sum of squares of fibonacci numbers."
   ]
  },
  {
   "cell_type": "markdown",
   "metadata": {},
   "source": [
    "We now know that the last digit repeats at 60 numbers period; therefore if we compute the fi values and store in a list, we can then extract the interval and do a sum over it."
   ]
  },
  {
   "cell_type": "code",
   "execution_count": 12,
   "metadata": {},
   "outputs": [],
   "source": [
    "fib_last = []\n",
    "fib_last.append(0)\n",
    "fib_last.append(1)\n",
    "\n",
    "fib_last_sq = []\n",
    "fib_last_sq.append(0)\n",
    "fib_last_sq.append(1)\n",
    "\n",
    "for i in range(2, 60):\n",
    "    val = ((fib_last[i-1] + fib_last[i-2])%10)\n",
    "    fib_last.append(val%10)\n",
    "    fib_last_sq.append((val**2)%10)"
   ]
  },
  {
   "cell_type": "code",
   "execution_count": 15,
   "metadata": {
    "scrolled": true
   },
   "outputs": [
    {
     "data": {
      "text/plain": [
       "[0,\n",
       " 1,\n",
       " 1,\n",
       " 4,\n",
       " 9,\n",
       " 5,\n",
       " 4,\n",
       " 9,\n",
       " 1,\n",
       " 6,\n",
       " 5,\n",
       " 1,\n",
       " 6,\n",
       " 9,\n",
       " 9,\n",
       " 0,\n",
       " 9,\n",
       " 9,\n",
       " 6,\n",
       " 1,\n",
       " 5,\n",
       " 6,\n",
       " 1,\n",
       " 9,\n",
       " 4,\n",
       " 5,\n",
       " 9,\n",
       " 4,\n",
       " 1,\n",
       " 1,\n",
       " 0,\n",
       " 1,\n",
       " 1,\n",
       " 4,\n",
       " 9,\n",
       " 5,\n",
       " 4,\n",
       " 9,\n",
       " 1,\n",
       " 6,\n",
       " 5,\n",
       " 1,\n",
       " 6,\n",
       " 9,\n",
       " 9,\n",
       " 0,\n",
       " 9,\n",
       " 9,\n",
       " 6,\n",
       " 1,\n",
       " 5,\n",
       " 6,\n",
       " 1,\n",
       " 9,\n",
       " 4,\n",
       " 5,\n",
       " 9,\n",
       " 4,\n",
       " 1,\n",
       " 1]"
      ]
     },
     "execution_count": 15,
     "metadata": {},
     "output_type": "execute_result"
    }
   ],
   "source": [
    "fib_last_sq"
   ]
  },
  {
   "cell_type": "code",
   "execution_count": 23,
   "metadata": {},
   "outputs": [
    {
     "data": {
      "text/plain": [
       "0"
      ]
     },
     "execution_count": 23,
     "metadata": {},
     "output_type": "execute_result"
    }
   ],
   "source": [
    "m = 1234567891%60\n",
    "sum(fib_last_sq[:m])%10"
   ]
  }
 ],
 "metadata": {
  "kernelspec": {
   "display_name": "Python 3",
   "language": "python",
   "name": "python3"
  },
  "language_info": {
   "codemirror_mode": {
    "name": "ipython",
    "version": 3
   },
   "file_extension": ".py",
   "mimetype": "text/x-python",
   "name": "python",
   "nbconvert_exporter": "python",
   "pygments_lexer": "ipython3",
   "version": "3.6.4"
  }
 },
 "nbformat": 4,
 "nbformat_minor": 2
}
