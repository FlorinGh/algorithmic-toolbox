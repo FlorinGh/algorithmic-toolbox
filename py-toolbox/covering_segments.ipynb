{
 "cells": [
  {
   "cell_type": "markdown",
   "metadata": {},
   "source": [
    "## Collecting Signatures - greedy algorithm"
   ]
  },
  {
   "cell_type": "markdown",
   "metadata": {},
   "source": [
    "You are responsible for collecting signatures from all tenants of a certain building.\n",
    "For each tenant, you know a period of time when he or she is at home.\n",
    "You would like to collect all signatures by visiting the building as few times as\n",
    "possible.\n",
    "The mathematical model for this problem is the following. You are given a set\n",
    "of segments on a line and your goal is to mark as few points on a line as possible\n",
    "so that each segment contains at least one marked point."
   ]
  },
  {
   "cell_type": "markdown",
   "metadata": {},
   "source": [
    "Given a set of 𝑛 segments {[𝑎0, 𝑏0], [𝑎1, 𝑏1], . . . , [𝑎𝑛−1, 𝑏𝑛−1]} with integer coordinates on a line, find\n",
    "the minimum number 𝑚 of points such that each segment contains at least one point. That is, find a\n",
    "set of integers 𝑋 of the minimum size such that for any segment [𝑎𝑖, 𝑏𝑖] there is a point 𝑥 ∈ 𝑋 such\n",
    "that 𝑎𝑖 ≤ 𝑥 ≤ 𝑏𝑖."
   ]
  },
  {
   "cell_type": "markdown",
   "metadata": {},
   "source": [
    "The first line of the input contains the number 𝑛 of segments. Each of the following 𝑛 lines\n",
    "contains two integers 𝑎𝑖 and 𝑏𝑖 (separated by a space) defining the coordinates of endpoints of the 𝑖-th\n",
    "segment."
   ]
  },
  {
   "cell_type": "markdown",
   "metadata": {},
   "source": [
    "Output the minimum number 𝑚 of points on the first line and the integer coordinates\n",
    "of 𝑚 points (separated by spaces) on the second line. You can output the points in any order. If there\n",
    "are many such sets of points, you can output any set. (It is not difficult to see that there always exist\n",
    "a set of points of the minimum size such that all the coordinates of the points are integers.)"
   ]
  },
  {
   "cell_type": "code",
   "execution_count": 27,
   "metadata": {},
   "outputs": [],
   "source": [
    "def getKey(item):\n",
    "    return item[0]"
   ]
  },
  {
   "cell_type": "code",
   "execution_count": 28,
   "metadata": {},
   "outputs": [],
   "source": [
    "def intersection(a, b):\n",
    "    # the lists must be sorted => a[0] < b[0]\n",
    "    # if the two intervals don't overlap, return the original intervals\n",
    "    if a[1] < b[0]:\n",
    "        print(a)\n",
    "        print(b)\n",
    "    # if the two intervals overlap, return a list of the overlap   \n",
    "    elif a[1] == b[0]:\n",
    "        overlap = [a[1]]\n",
    "        return overlap\n",
    "    else:\n",
    "        overlap = [max(a[0], b[0]), min(a[1], b[1])]\n",
    "        return overlap"
   ]
  },
  {
   "cell_type": "code",
   "execution_count": 62,
   "metadata": {},
   "outputs": [],
   "source": [
    "def optimal_points(segments):\n",
    "    '''segments are tuples of lists, each list is an interval and contains two values, the limits of the interval'''\n",
    "    points = []\n",
    "    \n",
    "    # sort the segments by first item\n",
    "    segs = sorted(segments, key=getKey)\n",
    "    #for j in range(len(segments)-1):\n",
    "    segs_overlap = []\n",
    "    for i in range(len(segs)-1):\n",
    "        segs_overlap.append(intersection(segs[i], segs[i+1]))\n",
    "    segs = segs_overlap.copy()\n",
    "    \n",
    "    #for s in segments:\n",
    "        #points.append(s[-1])\n",
    "    return segs_overlap"
   ]
  },
  {
   "cell_type": "code",
   "execution_count": 68,
   "metadata": {},
   "outputs": [
    {
     "data": {
      "text/plain": [
       "[[2, 3], [3, 5]]"
      ]
     },
     "execution_count": 68,
     "metadata": {},
     "output_type": "execute_result"
    }
   ],
   "source": [
    "segments = ([2, 5], [1, 3], [3, 6]) \n",
    "optimal_points(segments) # -> returns the list [3]"
   ]
  },
  {
   "cell_type": "code",
   "execution_count": 69,
   "metadata": {},
   "outputs": [
    {
     "data": {
      "text/plain": [
       "[[2, 3], [4, 5], [5, 6]]"
      ]
     },
     "execution_count": 69,
     "metadata": {},
     "output_type": "execute_result"
    }
   ],
   "source": [
    "segments = ([4, 7], [1, 3], [2, 5], [5, 6])\n",
    "optimal_points(segments) # -> returns the list [3, 6]"
   ]
  }
 ],
 "metadata": {
  "kernelspec": {
   "display_name": "Python 3",
   "language": "python",
   "name": "python3"
  },
  "language_info": {
   "codemirror_mode": {
    "name": "ipython",
    "version": 3
   },
   "file_extension": ".py",
   "mimetype": "text/x-python",
   "name": "python",
   "nbconvert_exporter": "python",
   "pygments_lexer": "ipython3",
   "version": "3.6.4"
  }
 },
 "nbformat": 4,
 "nbformat_minor": 2
}
