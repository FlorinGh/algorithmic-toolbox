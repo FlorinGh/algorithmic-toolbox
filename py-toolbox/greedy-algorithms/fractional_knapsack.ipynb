{
 "cells": [
  {
   "cell_type": "markdown",
   "metadata": {},
   "source": [
    "## Maximum Value of the Loot - greedy algorithm"
   ]
  },
  {
   "cell_type": "markdown",
   "metadata": {},
   "source": [
    "A thief finds much more loot than his bag can fit. Help him to find the most valuable combination\n",
    "of items assuming that any fraction of a loot item can be put into his bag. The goal of this code problem is to implement an algorithm for the fractional knapsack problem."
   ]
  },
  {
   "cell_type": "markdown",
   "metadata": {},
   "source": [
    "The first line of the input contains the number 𝑛 of items and the capacity 𝑊 of a knapsack.\n",
    "The next 𝑛 lines define the values and weights of the items. The 𝑖-th line contains integers 𝑣𝑖 and 𝑤𝑖—the\n",
    "value and the weight of 𝑖-th item, respectively."
   ]
  },
  {
   "cell_type": "code",
   "execution_count": 5,
   "metadata": {},
   "outputs": [],
   "source": [
    "def get_optimal_value(capacity, weights, values):\n",
    "    ''' capacity is a positive integer\n",
    "    weights and values are lists of integers\n",
    "    '''\n",
    "    # compute values per unit\n",
    "    values_unit = []\n",
    "    for i in range(len(values)):\n",
    "        values_unit.append(values[i]/weights[i])\n",
    "    \n",
    "    # sort weights, total values and values per unit based on values per unit\n",
    "    values = [x for _, x in sorted(zip(values_unit,values), reverse=True)]\n",
    "    weights = [x for _, x in sorted(zip(values_unit,weights), reverse=True)]\n",
    "    values_unit.sort(reverse=True)\n",
    "    \n",
    "    # pass through the lists and fill the capacity based on the available values\n",
    "    value = 0.0\n",
    "    for i in range(len(values)):\n",
    "        if capacity == 0:\n",
    "            return value\n",
    "        units = min(weights[i], capacity)\n",
    "        value += units * values_unit[i]\n",
    "        capacity -= units\n",
    "    return round(value, 4)"
   ]
  },
  {
   "cell_type": "code",
   "execution_count": 6,
   "metadata": {},
   "outputs": [
    {
     "data": {
      "text/plain": [
       "166.6667"
      ]
     },
     "execution_count": 6,
     "metadata": {},
     "output_type": "execute_result"
    }
   ],
   "source": [
    "capacity = 10\n",
    "values = [500]\n",
    "weights = [30]\n",
    "get_optimal_value(capacity, weights, values)"
   ]
  }
 ],
 "metadata": {
  "kernelspec": {
   "display_name": "Python 3",
   "language": "python",
   "name": "python3"
  },
  "language_info": {
   "codemirror_mode": {
    "name": "ipython",
    "version": 3
   },
   "file_extension": ".py",
   "mimetype": "text/x-python",
   "name": "python",
   "nbconvert_exporter": "python",
   "pygments_lexer": "ipython3",
   "version": "3.6.4"
  }
 },
 "nbformat": 4,
 "nbformat_minor": 2
}
