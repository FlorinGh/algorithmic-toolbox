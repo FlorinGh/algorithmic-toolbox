{
 "cells": [
  {
   "cell_type": "markdown",
   "metadata": {},
   "source": [
    "## Largest number - greedy algorithms"
   ]
  },
  {
   "cell_type": "markdown",
   "metadata": {},
   "source": [
    "Compose the largest number out of a set of integers. The first line of the input contains an integer 𝑛. The second line contains integers 𝑎1, 𝑎2, . . . , 𝑎𝑛. Output the largest number that can be composed out of 𝑎1, 𝑎2, . . . , 𝑎𝑛."
   ]
  },
  {
   "cell_type": "code",
   "execution_count": null,
   "metadata": {},
   "outputs": [],
   "source": [
    "def getKey(item):\n",
    "    return str(item)[0]"
   ]
  },
  {
   "cell_type": "code",
   "execution_count": 48,
   "metadata": {},
   "outputs": [],
   "source": [
    "def largest_number(a):\n",
    "    '''build the largest number from a list on integers'''\n",
    "    # sort values in the list based on the first digit\n",
    "    digits=[]\n",
    "    numbers = []\n",
    "    \n",
    "    for i in range(len(a)):\n",
    "        if int(a[i]) < 10:\n",
    "            digits.append(a[i])\n",
    "        else:\n",
    "            numbers.append(a[i])\n",
    "\n",
    "    a = digits + numbers\n",
    "    a = sorted(a, key=getKey, reverse=True)\n",
    "   \n",
    "    # add all these values in a final number:\n",
    "    res = \"\"\n",
    "    for x in a:\n",
    "        res += str(x)\n",
    "    return res"
   ]
  },
  {
   "cell_type": "code",
   "execution_count": 49,
   "metadata": {},
   "outputs": [
    {
     "data": {
      "text/plain": [
       "'20111000'"
      ]
     },
     "execution_count": 49,
     "metadata": {},
     "output_type": "execute_result"
    }
   ],
   "source": [
    "largest_number([20, 1, 0, 100, 1])"
   ]
  }
 ],
 "metadata": {
  "kernelspec": {
   "display_name": "Python 3",
   "language": "python",
   "name": "python3"
  },
  "language_info": {
   "codemirror_mode": {
    "name": "ipython",
    "version": 3
   },
   "file_extension": ".py",
   "mimetype": "text/x-python",
   "name": "python",
   "nbconvert_exporter": "python",
   "pygments_lexer": "ipython3",
   "version": "3.6.4"
  }
 },
 "nbformat": 4,
 "nbformat_minor": 2
}
