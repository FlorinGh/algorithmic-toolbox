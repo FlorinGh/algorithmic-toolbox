{
 "cells": [
  {
   "cell_type": "markdown",
   "metadata": {},
   "source": [
    "## Least common multiple"
   ]
  },
  {
   "cell_type": "markdown",
   "metadata": {},
   "source": [
    "Given two integers 𝑎 and 𝑏, find their least common multiple.  \n",
    "The fastest way to determine the lcm is to multpily the two numbers and divide by the greatest common divisor."
   ]
  },
  {
   "cell_type": "code",
   "execution_count": 20,
   "metadata": {},
   "outputs": [],
   "source": [
    "def gcd_fast(a, b):\n",
    "    gcd = 1\n",
    "    a, b = max(a, b), min(a, b)\n",
    "    if b == 0:\n",
    "        gcd = a\n",
    "    else:\n",
    "        gcd = gcd_fast(b, a % b)\n",
    "\n",
    "    return gcd"
   ]
  },
  {
   "cell_type": "code",
   "execution_count": 24,
   "metadata": {},
   "outputs": [],
   "source": [
    "def lcm_fast(a, b):\n",
    "    lcm = a * b // gcd_fast(a, b)\n",
    "    # when / the division changes the result to float;\n",
    "    # float doesn't handle well big numbers and conversion will return a wrong value\n",
    "    # the trick is to use // to keep the numbers integers\n",
    "    return lcm"
   ]
  },
  {
   "cell_type": "code",
   "execution_count": 25,
   "metadata": {},
   "outputs": [
    {
     "data": {
      "text/plain": [
       "46374212988031350"
      ]
     },
     "execution_count": 25,
     "metadata": {},
     "output_type": "execute_result"
    }
   ],
   "source": [
    "lcm_fast(226553150, 1023473145)"
   ]
  }
 ],
 "metadata": {
  "kernelspec": {
   "display_name": "Python 3",
   "language": "python",
   "name": "python3"
  },
  "language_info": {
   "codemirror_mode": {
    "name": "ipython",
    "version": 3
   },
   "file_extension": ".py",
   "mimetype": "text/x-python",
   "name": "python",
   "nbconvert_exporter": "python",
   "pygments_lexer": "ipython3",
   "version": "3.6.4"
  }
 },
 "nbformat": 4,
 "nbformat_minor": 2
}
