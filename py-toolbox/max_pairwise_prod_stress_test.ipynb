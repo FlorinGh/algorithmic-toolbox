{
 "cells": [
  {
   "cell_type": "markdown",
   "metadata": {},
   "source": [
    "## Stress test for max pairwise product"
   ]
  },
  {
   "cell_type": "code",
   "execution_count": null,
   "metadata": {},
   "outputs": [],
   "source": [
    "import random as rnd"
   ]
  },
  {
   "cell_type": "code",
   "execution_count": null,
   "metadata": {},
   "outputs": [],
   "source": [
    "# The NAIVE algo\n",
    "def naive(a):\n",
    "    result = 0\n",
    "    for i in range(0, len(a)):\n",
    "        for j in range(i+1, len(a)):\n",
    "            if a[i]*a[j] > result:\n",
    "                result = a[i]*a[j]\n",
    "    \n",
    "    return result"
   ]
  },
  {
   "cell_type": "code",
   "execution_count": null,
   "metadata": {},
   "outputs": [],
   "source": [
    "# The FAST algo\n",
    "def fast(a):\n",
    "    # initialize result and index\n",
    "    result = 0\n",
    "    index = 0\n",
    "    \n",
    "    # search for the index of the max number in list\n",
    "    for i in range(1, len(a)):\n",
    "        if a[i] > a[index]:\n",
    "            index = i\n",
    "    \n",
    "    # swap the last number with the max number\n",
    "    a[-1], a[index] = a[index], a[-1]\n",
    "    \n",
    "    # reset index value\n",
    "    index = 0\n",
    "    # search the index of the max number in list excluding last number\n",
    "    for i in range(1, len(a)-1):\n",
    "        if a[i] > a[index]:\n",
    "            index = i\n",
    "\n",
    "    # swap the second last number with the second biggest \n",
    "    a[-2], a[index] = a[index], a[-2]\n",
    "    \n",
    "    # result is the sum of the last two values in the list\n",
    "    result = a[-1] * a[-2]\n",
    "    \n",
    "    return result"
   ]
  },
  {
   "cell_type": "code",
   "execution_count": null,
   "metadata": {},
   "outputs": [],
   "source": [
    "# STRESS TEST SETUP\n",
    "def stressTest(N, M):\n",
    "    while True:\n",
    "        n = rnd.randint(2, N)\n",
    "        a = []\n",
    "        for index in range (0, n):\n",
    "            a.append(rnd.randrange(0, M))\n",
    "        print(a)\n",
    "        \n",
    "        res1 = naive(a)\n",
    "        res2 = fast(a)\n",
    "        \n",
    "        if res1 == res2:\n",
    "            print(\"OK\")\n",
    "        else:\n",
    "            print(\"Wrong answer: \", res1, res2)\n",
    "            return"
   ]
  },
  {
   "cell_type": "code",
   "execution_count": null,
   "metadata": {
    "scrolled": true
   },
   "outputs": [],
   "source": [
    "stressTest(100, 30)"
   ]
  }
 ],
 "metadata": {
  "kernelspec": {
   "display_name": "Python 3",
   "language": "python",
   "name": "python3"
  },
  "language_info": {
   "codemirror_mode": {
    "name": "ipython",
    "version": 3
   },
   "file_extension": ".py",
   "mimetype": "text/x-python",
   "name": "python",
   "nbconvert_exporter": "python",
   "pygments_lexer": "ipython3",
   "version": "3.6.4"
  }
 },
 "nbformat": 4,
 "nbformat_minor": 2
}
